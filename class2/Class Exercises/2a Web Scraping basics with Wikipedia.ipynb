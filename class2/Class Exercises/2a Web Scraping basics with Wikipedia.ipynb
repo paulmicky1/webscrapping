{
 "cells": [
  {
   "cell_type": "markdown",
   "id": "6c1d5b1c",
   "metadata": {},
   "source": [
    "# Web Scraping Wikipedia - France Page\n",
    "## A Step-by-Step Tutorial using BeautifulSoup\n",
    "\n",
    "This notebook shows how to collect information from the France Wikipedia page, clean it, and store the results."
   ]
  },
  {
   "cell_type": "markdown",
   "id": "6f38d21e",
   "metadata": {},
   "source": [
    "## Step 1: Import Required Libraries\n",
    "\n",
    "We need `requests` to download the page, `BeautifulSoup` to parse it, and `pandas` to present the results cleanly."
   ]
  },
  {
   "cell_type": "code",
   "execution_count": 1,
   "id": "d08753ce",
   "metadata": {},
   "outputs": [],
   "source": [
    "# Import required libraries for web scraping and data handling\n",
    "import requests  # Library to send HTTP requests and fetch web page content\n",
    "from bs4 import BeautifulSoup  # Library for parsing HTML and XML documents\n",
    "import pandas as pd  # Library for data manipulation and creating structured tables (DataFrames)"
   ]
  },
  {
   "cell_type": "markdown",
   "id": "4f28293a",
   "metadata": {},
   "source": [
    "## Step 2: Fetch the Wikipedia Page\n",
    "\n",
    "Wikipedia blocks some scripts that look like bots, so we send a friendly browser-style header and check the status code before continuing."
   ]
  },
  {
   "cell_type": "code",
   "execution_count": 2,
   "id": "48824822",
   "metadata": {},
   "outputs": [
    {
     "name": "stdout",
     "output_type": "stream",
     "text": [
      "Page fetched successfully!\n",
      "Status Code: 200\n",
      "Content Length: 1172254 bytes\n"
     ]
    }
   ],
   "source": [
    "# Define the URL of the Wikipedia page we want to scrape\n",
    "url = \"https://en.wikipedia.org/wiki/France\"\n",
    "\n",
    "# Set headers to mimic a real browser, helping to avoid being blocked by the server\n",
    "headers = {\n",
    "    \"User-Agent\": \"Mozilla/5.0 (Windows NT 10.0; Win64; x64) \"\n",
    "                  \"AppleWebKit/537.36 (KHTML, like Gecko) \"\n",
    "                  \"Chrome/123.0 Safari/537.36\"\n",
    "}\n",
    "\n",
    "# Send a GET request to the URL with the headers to retrieve the page content\n",
    "response = requests.get(url, headers=headers)\n",
    "\n",
    "# Check the response status code to ensure the request was successful (200 means OK)\n",
    "if response.status_code == 200:\n",
    "    print(\"Page fetched successfully!\")\n",
    "    print(f\"Status Code: {response.status_code}\")\n",
    "    print(f\"Content Length: {len(response.content)} bytes\")\n",
    "else:\n",
    "    print(f\"Failed to fetch page. Status Code: {response.status_code}\")"
   ]
  },
  {
   "cell_type": "markdown",
   "id": "4f961d12",
   "metadata": {},
   "source": [
    "## Step 3: Parse HTML with BeautifulSoup\n",
    "\n",
    "Once the page downloads, we hand the raw HTML to BeautifulSoup so we can search it."
   ]
  },
  {
   "cell_type": "code",
   "execution_count": 3,
   "id": "d1ac40ec",
   "metadata": {},
   "outputs": [
    {
     "name": "stdout",
     "output_type": "stream",
     "text": [
      "HTML parsed successfully!\n",
      "Document type: <class 'bs4.BeautifulSoup'>\n"
     ]
    }
   ],
   "source": [
    "# Parse the raw HTML content from the response using BeautifulSoup with the 'lxml' parser for efficient HTML handling\n",
    "soup = BeautifulSoup(response.content, 'lxml')\n",
    "\n",
    "# Confirm parsing was successful and show the type of the soup object\n",
    "print(\"HTML parsed successfully!\")\n",
    "print(f\"Document type: {type(soup)}\")"
   ]
  },
  {
   "cell_type": "markdown",
   "id": "20a58c47",
   "metadata": {},
   "source": [
    "## Step 4: Extract the Page Title\n",
    "\n",
    "We read both the browser tab title (`<title>`) and the main heading (`<h1>`)."
   ]
  },
  {
   "cell_type": "code",
   "execution_count": 4,
   "id": "82f17197",
   "metadata": {},
   "outputs": [
    {
     "name": "stdout",
     "output_type": "stream",
     "text": [
      "Page Title (from <title> tag):\n",
      "France - Wikipedia\n",
      "\n",
      "Article Title (from <h1> tag):\n",
      "France\n"
     ]
    }
   ],
   "source": [
    "# Method 1: Extract the page title from the <title> tag in the HTML head\n",
    "page_title = soup.title.string\n",
    "print(\"Page Title (from <title> tag):\")\n",
    "print(page_title)\n",
    "print()\n",
    "\n",
    "# Method 2: Find the main heading (h1) which is typically the article title\n",
    "main_heading = soup.find('h1', class_='firstHeading')\n",
    "if main_heading:\n",
    "    article_title = main_heading.text\n",
    "    print(\"Article Title (from <h1> tag):\")\n",
    "    print(article_title)\n",
    "else:\n",
    "    # Fallback for newer Wikipedia layouts: look for the title in a span with specific class\n",
    "    main_heading = soup.find('span', class_='mw-page-title-main')\n",
    "    if main_heading:\n",
    "        article_title = main_heading.text\n",
    "        print(\"Article Title (from span):\")\n",
    "        print(article_title)"
   ]
  },
  {
   "cell_type": "markdown",
   "id": "8ceaa562",
   "metadata": {},
   "source": [
    "## Step 5: Extract the First 5 Headings\n",
    "\n",
    "Wikipedia uses `<h2>` tags for section headings. We read the first few to understand the article layout."
   ]
  },
  {
   "cell_type": "code",
   "execution_count": 5,
   "id": "370d290d",
   "metadata": {},
   "outputs": [
    {
     "name": "stdout",
     "output_type": "stream",
     "text": [
      "1. Contents\n",
      "2. Etymology\n",
      "3. History\n",
      "4. Geography\n",
      "5. Politics\n",
      "\n",
      "Total headings found: 13\n"
     ]
    }
   ],
   "source": [
    "# Find all <h2> elements in the HTML, which represent section headings\n",
    "all_headings = soup.find_all('h2')\n",
    "\n",
    "# Loop through the first 5 headings, extract their text, and print them\n",
    "for i, heading in enumerate(all_headings[:5], 1):\n",
    "    # Get the text content of the heading, stripping extra whitespace\n",
    "    heading_text = heading.get_text(strip=True)\n",
    "    print(f\"{i}. {heading_text}\")\n",
    "\n",
    "print(f\"\\nTotal headings found: {len(all_headings)}\")"
   ]
  },
  {
   "cell_type": "markdown",
   "id": "5c838edb",
   "metadata": {},
   "source": [
    "## Step 6: Extract a Specific Paragraph\n",
    "\n",
    "We gather every main paragraph, clean out empty ones, and then display whichever paragraph number we want."
   ]
  },
  {
   "cell_type": "code",
   "execution_count": 6,
   "id": "ffb81b0b",
   "metadata": {},
   "outputs": [
    {
     "name": "stdout",
     "output_type": "stream",
     "text": [
      "Total valid paragraphs found: 143\n",
      "\n"
     ]
    }
   ],
   "source": [
    "# Locate the main content container and find all <p> tags within it, or fallback to all <p> tags if container not found\n",
    "content_div = soup.find('div', class_='mw-page-container')\n",
    "all_paragraphs = content_div.find_all('p') if content_div else soup.find_all('p')\n",
    "\n",
    "# Filter the list to include only paragraphs with non-empty text content\n",
    "valid_paragraphs = [p for p in all_paragraphs if p.get_text(strip=True)]\n",
    "\n",
    "\n",
    "print(f\"Total valid paragraphs found: {len(valid_paragraphs)}\")\n",
    "print()"
   ]
  },
  {
   "cell_type": "code",
   "execution_count": 7,
   "id": "49ce3797",
   "metadata": {},
   "outputs": [
    {
     "name": "stdout",
     "output_type": "stream",
     "text": [
      "Example 1: Displaying Paragraph\n",
      "Paragraph #1:\n",
      "France,[h]officially theFrench Republic,[i]is a country primarily located inWestern Europe.Its overseas regions and territoriesincludeFrench Guianain South America,Saint Pierre and Miquelonin the North Atlantic, theFrench West Indies, andmany islandsinOceaniaand theIndian Ocean, giving itthe largest discontiguous exclusive economic zone in the world.Metropolitan Franceshares borders withBelgiumandLuxembourgto the north;Germanyto the northeast;Switzerlandto the east;ItalyandMonacoto the southeast;AndorraandSpainto the south; and a maritime border with theUnited Kingdomto the northwest. Its metropolitan area extends from theRhineto the Atlantic Ocean and from theMediterranean Seato theEnglish Channeland theNorth Sea. Its 18integral regions—five of which are overseas—span a combined area of 632,702 km2(244,288 sq mi) and havean estimated total populationof over 68.6 million as of January 2025[update]. France is asemi-presidential republic. Its capital,largest cityand main cultural and economic centre isParis.\n"
     ]
    }
   ],
   "source": [
    "# Define a function to display a specific paragraph by its number\n",
    "def display_paragraph(paragraph_number):\n",
    "    \"\"\"\n",
    "    Display the text of a specified paragraph from the list of valid paragraphs.\n",
    "    \n",
    "    Args:\n",
    "        paragraph_number (int): The 1-based index of the paragraph to display.\n",
    "    \"\"\"\n",
    "    # Validate the paragraph number is within range\n",
    "    if 1 <= paragraph_number <= len(valid_paragraphs):\n",
    "        # Retrieve the paragraph (adjusting for 0-based indexing)\n",
    "        paragraph = valid_paragraphs[paragraph_number - 1]\n",
    "        # Extract and print the cleaned text\n",
    "        paragraph_text = paragraph.get_text(strip=True)\n",
    "        print(f\"Paragraph #{paragraph_number}:\")\n",
    "        print(paragraph_text)\n",
    "    else:\n",
    "        print(f\"Invalid paragraph number. Please choose between 1 and {len(valid_paragraphs)}\")\n",
    "\n",
    "# Example usage: Display the first paragraph\n",
    "print(\"Example 1: Displaying Paragraph\")\n",
    "display_paragraph(1)"
   ]
  },
  {
   "cell_type": "code",
   "execution_count": 8,
   "id": "bfe49fd7",
   "metadata": {},
   "outputs": [
    {
     "name": "stdout",
     "output_type": "stream",
     "text": [
      "Example 2: Displaying Paragraph 3\n",
      "Paragraph #3:\n",
      "TheFrench Revolutionof 1789 overthrew theAncien Régimeand produced theDeclaration of the Rights of Man, which expresses the nation's ideals to this day. France reached its political and military zenith in the early 19th century underNapoleon Bonaparte, subjugating part of continental Europe and establishing theFirst French Empire. Its collapse initiated a period of relative decline in which France endured theBourbon Restorationuntil the founding of theFrench Second Republicwhich was succeeded by theSecond French EmpireuponNapoleon III's takeover. His empire collapsed during theFranco-Prussian Warin 1870. This led to the establishment of theFrench Third Republic, with a period of economic prosperity and cultural and scientific flourishing known as theBelle Époque. France was one of themajor participantsofWorld War I, from whichit emerged victoriousat great human and economic cost. It was among theAllies of World War II, but it surrendered andwas occupiedin 1940. Followingits liberation in 1944, the short-livedFourth Republicwas established and later dissolved in the course of the defeat in theAlgerian War. The currentFifth Republicwas formed in 1958 byCharles de Gaulle.Algeriaand most French colonies became independent in the 1960s, with the majority retainingclose economic and military ties with France.\n"
     ]
    }
   ],
   "source": [
    "# Display the third paragraph as another example\n",
    "print(\"Example 2: Displaying Paragraph 3\")\n",
    "display_paragraph(3)"
   ]
  },
  {
   "cell_type": "code",
   "execution_count": 9,
   "id": "7c5786f1",
   "metadata": {},
   "outputs": [
    {
     "name": "stdout",
     "output_type": "stream",
     "text": [
      "Example 3: Displaying Paragraph 5\n",
      "Paragraph #5:\n",
      "Originally applied to the wholeFrankish Empire, the nameFrancecomes from theLatinFrancia, or 'realm of theFranks'.[11]Thename of the Franksis related to the English wordfrank('free'): the latter stems from theOld Frenchfranc('free, noble, sincere'), and ultimately from theMedieval Latinwordfrancus('free, exempt from service; a freeman, a Frank'), a generalisation of the tribal name that emerged as aLate Latinborrowing of the reconstructedFrankishendonym*Frank.[12][13]It has been suggested that the meaning 'free' was adopted because after the conquest ofGaul, only Franks were free of taxation,[14]or more generally because they had the status of freemen in contrast to servants or slaves.[13]The etymology of*Frankis uncertain. It is traditionally derived from theProto-Germanicword*frankōn, which translates as 'javelin' or 'lance' (the throwing axe of the Franks was known as thefrancisca),[15]although these weapons may have been named because of their use by the Franks, not the other way around.[13]\n"
     ]
    }
   ],
   "source": [
    "# Display the fifth paragraph as a third example\n",
    "print(\"Example 3: Displaying Paragraph 5\")\n",
    "display_paragraph(5)"
   ]
  },
  {
   "cell_type": "markdown",
   "id": "9e951429",
   "metadata": {},
   "source": [
    "## Step 7: Extract the Infobox\n",
    "\n",
    "The infobox on the right side stores key facts about France. We turn it into a list of label/value pairs."
   ]
  },
  {
   "cell_type": "code",
   "execution_count": 10,
   "id": "15a7eaa1",
   "metadata": {},
   "outputs": [
    {
     "name": "stdout",
     "output_type": "stream",
     "text": [
      "✓ Infobox table found!\n",
      "\n",
      "Extracting France Information...\n",
      "\n",
      "France - Key Information:\n",
      "================================================================================\n",
      "Capitaland largest city        : Paris48°51′N2°21′E﻿ / ﻿48.850°N 2.350°E﻿ /48.850; 2.350\n",
      "Official languageand national language : French[a]\n",
      "Nationality(2021)[1]           : 92.2%French7.8%other\n",
      "Religion(2021)[2]              : 50%Christianity33%irreligion4%Islam4%other religions\n",
      "Demonym                        : French\n",
      "Government                     : Unitarysemi-presidential republic\n",
      "•President                     : Emmanuel Macron\n",
      "•Prime Minister                : Sébastien Lecornu\n",
      "•President of the Senate       : Gérard Larcher\n",
      "•President of the National Assembly : Yaël Braun-Pivet\n",
      "Legislature                    : Parliament\n",
      "•Upper house                   : Senate\n",
      "•Lower house                   : National Assembly\n",
      "•Kingdom of the West Franks—Treaty of Verdun : 10 August 843\n",
      "•French Republic—French First Republic : 22 September 1792\n",
      "•Current constitution—French Fifth Republic : 4 October 1958\n",
      "• Total                        : 632,702.3 km2(244,287.7 sq mi)(includingmetropolitan Franceandoverseas Franceand excludingTerre Adelie)(42nd)\n",
      "• Water (%)                    : 0.86\n",
      "•Metropolitan France(DGCL)     : 543,941 km2(210,017 sq mi)(50th)\n",
      "• Metropolitan France (INSEE)  : 543,908.3 km2(210,004.2 sq mi)[b](50th)\n",
      "• January 2025 estimate        : 68,605,616(21st)\n",
      "• Density                      : 108/km2(281/sq mi) (106th)\n",
      "• Metropolitan France, estimate as of January 2025[update] : 66,351,959(21st)\n",
      "• Density                      : 122/km2(316.0/sq mi) (97th)\n",
      "GDP(PPP)                       : 2025 estimate\n",
      "• Total                        : $4.504 trillion(9th)\n",
      "• Per capita                   : $65,626(25th)\n",
      "GDP(nominal)                   : 2025 estimate\n",
      "• Total                        : $3.211 trillion(7th)\n",
      "• Per capita                   : $46,792(22nd)\n",
      "Gini(2022)                     : 29.8low inequality\n",
      "HDI(2023)                      : 0.920very high(26th)\n",
      "Currency                       : Euro(€) (EUR)[c]CFP franc(XPF)[d]\n",
      "Time zone                      : UTC+1(CET[e])\n",
      "• Summer (DST)                 : UTC+2(CEST)\n",
      "Calling code                   : +33[f]\n",
      "ISO 3166 code                  : FR\n",
      "Internet TLD                   : .fr[g]\n"
     ]
    }
   ],
   "source": [
    "# Locate the infobox table using its class name\n",
    "infobox = soup.find('table', class_='infobox')\n",
    "\n",
    "if infobox:\n",
    "    print(\"✓ Infobox table found!\")\n",
    "    print(\"\\nExtracting France Information...\\n\")\n",
    "    \n",
    "    # Initialize a list to store pairs of labels and values\n",
    "    info_data = []\n",
    "    \n",
    "    # Iterate over each row in the infobox table\n",
    "    rows = infobox.find_all('tr')\n",
    "    \n",
    "    for row in rows:\n",
    "        # Find the header (th) and data (td) cells in the row\n",
    "        header = row.find('th')\n",
    "        data = row.find('td')\n",
    "        \n",
    "        if header and data:\n",
    "            # Extract and clean the text from header and data\n",
    "            label = header.get_text(strip=True)\n",
    "            value = data.get_text(strip=True)\n",
    "            \n",
    "            # Remove citation references like [1], [2] using regex\n",
    "            import re\n",
    "            value = re.sub(r'\\[\\d+\\]', '', value)\n",
    "            \n",
    "            # Append the cleaned label-value pair to the list\n",
    "            info_data.append([label, value])\n",
    "    \n",
    "    # Print the extracted information in a formatted way\n",
    "    print(\"France - Key Information:\")\n",
    "    print(\"=\" * 80)\n",
    "    for label, value in info_data:\n",
    "        print(f\"{label:30} : {value}\")\n",
    "        \n",
    "else:\n",
    "    print(\"✗ Infobox table not found\")"
   ]
  },
  {
   "cell_type": "markdown",
   "id": "bbba1863",
   "metadata": {},
   "source": [
    "## Step 8: Create a DataFrame\n",
    "\n",
    "Turning the list into a DataFrame lets us inspect and export it easily."
   ]
  },
  {
   "cell_type": "code",
   "execution_count": 11,
   "id": "9102cf38",
   "metadata": {},
   "outputs": [
    {
     "name": "stdout",
     "output_type": "stream",
     "text": [
      "France Information Table (as DataFrame):\n"
     ]
    },
    {
     "data": {
      "text/html": [
       "<div>\n",
       "<style scoped>\n",
       "    .dataframe tbody tr th:only-of-type {\n",
       "        vertical-align: middle;\n",
       "    }\n",
       "\n",
       "    .dataframe tbody tr th {\n",
       "        vertical-align: top;\n",
       "    }\n",
       "\n",
       "    .dataframe thead th {\n",
       "        text-align: right;\n",
       "    }\n",
       "</style>\n",
       "<table border=\"1\" class=\"dataframe\">\n",
       "  <thead>\n",
       "    <tr style=\"text-align: right;\">\n",
       "      <th></th>\n",
       "      <th>Property</th>\n",
       "      <th>Value</th>\n",
       "    </tr>\n",
       "  </thead>\n",
       "  <tbody>\n",
       "    <tr>\n",
       "      <th>0</th>\n",
       "      <td>Capitaland largest city</td>\n",
       "      <td>Paris48°51′N2°21′E﻿ / ﻿48.850°N 2.350°E﻿ /48.8...</td>\n",
       "    </tr>\n",
       "    <tr>\n",
       "      <th>1</th>\n",
       "      <td>Official languageand national language</td>\n",
       "      <td>French[a]</td>\n",
       "    </tr>\n",
       "    <tr>\n",
       "      <th>2</th>\n",
       "      <td>Nationality(2021)[1]</td>\n",
       "      <td>92.2%French7.8%other</td>\n",
       "    </tr>\n",
       "    <tr>\n",
       "      <th>3</th>\n",
       "      <td>Religion(2021)[2]</td>\n",
       "      <td>50%Christianity33%irreligion4%Islam4%other rel...</td>\n",
       "    </tr>\n",
       "    <tr>\n",
       "      <th>4</th>\n",
       "      <td>Demonym</td>\n",
       "      <td>French</td>\n",
       "    </tr>\n",
       "    <tr>\n",
       "      <th>5</th>\n",
       "      <td>Government</td>\n",
       "      <td>Unitarysemi-presidential republic</td>\n",
       "    </tr>\n",
       "    <tr>\n",
       "      <th>6</th>\n",
       "      <td>•President</td>\n",
       "      <td>Emmanuel Macron</td>\n",
       "    </tr>\n",
       "    <tr>\n",
       "      <th>7</th>\n",
       "      <td>•Prime Minister</td>\n",
       "      <td>Sébastien Lecornu</td>\n",
       "    </tr>\n",
       "    <tr>\n",
       "      <th>8</th>\n",
       "      <td>•President of the Senate</td>\n",
       "      <td>Gérard Larcher</td>\n",
       "    </tr>\n",
       "    <tr>\n",
       "      <th>9</th>\n",
       "      <td>•President of the National Assembly</td>\n",
       "      <td>Yaël Braun-Pivet</td>\n",
       "    </tr>\n",
       "    <tr>\n",
       "      <th>10</th>\n",
       "      <td>Legislature</td>\n",
       "      <td>Parliament</td>\n",
       "    </tr>\n",
       "    <tr>\n",
       "      <th>11</th>\n",
       "      <td>•Upper house</td>\n",
       "      <td>Senate</td>\n",
       "    </tr>\n",
       "    <tr>\n",
       "      <th>12</th>\n",
       "      <td>•Lower house</td>\n",
       "      <td>National Assembly</td>\n",
       "    </tr>\n",
       "    <tr>\n",
       "      <th>13</th>\n",
       "      <td>•Kingdom of the West Franks—Treaty of Verdun</td>\n",
       "      <td>10 August 843</td>\n",
       "    </tr>\n",
       "    <tr>\n",
       "      <th>14</th>\n",
       "      <td>•French Republic—French First Republic</td>\n",
       "      <td>22 September 1792</td>\n",
       "    </tr>\n",
       "    <tr>\n",
       "      <th>15</th>\n",
       "      <td>•Current constitution—French Fifth Republic</td>\n",
       "      <td>4 October 1958</td>\n",
       "    </tr>\n",
       "    <tr>\n",
       "      <th>16</th>\n",
       "      <td>• Total</td>\n",
       "      <td>632,702.3 km2(244,287.7 sq mi)(includingmetrop...</td>\n",
       "    </tr>\n",
       "    <tr>\n",
       "      <th>17</th>\n",
       "      <td>• Water (%)</td>\n",
       "      <td>0.86</td>\n",
       "    </tr>\n",
       "    <tr>\n",
       "      <th>18</th>\n",
       "      <td>•Metropolitan France(DGCL)</td>\n",
       "      <td>543,941 km2(210,017 sq mi)(50th)</td>\n",
       "    </tr>\n",
       "    <tr>\n",
       "      <th>19</th>\n",
       "      <td>• Metropolitan France (INSEE)</td>\n",
       "      <td>543,908.3 km2(210,004.2 sq mi)[b](50th)</td>\n",
       "    </tr>\n",
       "    <tr>\n",
       "      <th>20</th>\n",
       "      <td>• January 2025 estimate</td>\n",
       "      <td>68,605,616(21st)</td>\n",
       "    </tr>\n",
       "    <tr>\n",
       "      <th>21</th>\n",
       "      <td>• Density</td>\n",
       "      <td>108/km2(281/sq mi) (106th)</td>\n",
       "    </tr>\n",
       "    <tr>\n",
       "      <th>22</th>\n",
       "      <td>• Metropolitan France, estimate as of January ...</td>\n",
       "      <td>66,351,959(21st)</td>\n",
       "    </tr>\n",
       "    <tr>\n",
       "      <th>23</th>\n",
       "      <td>• Density</td>\n",
       "      <td>122/km2(316.0/sq mi) (97th)</td>\n",
       "    </tr>\n",
       "    <tr>\n",
       "      <th>24</th>\n",
       "      <td>GDP(PPP)</td>\n",
       "      <td>2025 estimate</td>\n",
       "    </tr>\n",
       "    <tr>\n",
       "      <th>25</th>\n",
       "      <td>• Total</td>\n",
       "      <td>$4.504 trillion(9th)</td>\n",
       "    </tr>\n",
       "    <tr>\n",
       "      <th>26</th>\n",
       "      <td>• Per capita</td>\n",
       "      <td>$65,626(25th)</td>\n",
       "    </tr>\n",
       "    <tr>\n",
       "      <th>27</th>\n",
       "      <td>GDP(nominal)</td>\n",
       "      <td>2025 estimate</td>\n",
       "    </tr>\n",
       "    <tr>\n",
       "      <th>28</th>\n",
       "      <td>• Total</td>\n",
       "      <td>$3.211 trillion(7th)</td>\n",
       "    </tr>\n",
       "    <tr>\n",
       "      <th>29</th>\n",
       "      <td>• Per capita</td>\n",
       "      <td>$46,792(22nd)</td>\n",
       "    </tr>\n",
       "    <tr>\n",
       "      <th>30</th>\n",
       "      <td>Gini(2022)</td>\n",
       "      <td>29.8low inequality</td>\n",
       "    </tr>\n",
       "    <tr>\n",
       "      <th>31</th>\n",
       "      <td>HDI(2023)</td>\n",
       "      <td>0.920very high(26th)</td>\n",
       "    </tr>\n",
       "    <tr>\n",
       "      <th>32</th>\n",
       "      <td>Currency</td>\n",
       "      <td>Euro(€) (EUR)[c]CFP franc(XPF)[d]</td>\n",
       "    </tr>\n",
       "    <tr>\n",
       "      <th>33</th>\n",
       "      <td>Time zone</td>\n",
       "      <td>UTC+1(CET[e])</td>\n",
       "    </tr>\n",
       "    <tr>\n",
       "      <th>34</th>\n",
       "      <td>• Summer (DST)</td>\n",
       "      <td>UTC+2(CEST)</td>\n",
       "    </tr>\n",
       "    <tr>\n",
       "      <th>35</th>\n",
       "      <td>Calling code</td>\n",
       "      <td>+33[f]</td>\n",
       "    </tr>\n",
       "    <tr>\n",
       "      <th>36</th>\n",
       "      <td>ISO 3166 code</td>\n",
       "      <td>FR</td>\n",
       "    </tr>\n",
       "    <tr>\n",
       "      <th>37</th>\n",
       "      <td>Internet TLD</td>\n",
       "      <td>.fr[g]</td>\n",
       "    </tr>\n",
       "  </tbody>\n",
       "</table>\n",
       "</div>"
      ],
      "text/plain": [
       "                                             Property  \\\n",
       "0                             Capitaland largest city   \n",
       "1              Official languageand national language   \n",
       "2                                Nationality(2021)[1]   \n",
       "3                                   Religion(2021)[2]   \n",
       "4                                             Demonym   \n",
       "5                                          Government   \n",
       "6                                          •President   \n",
       "7                                     •Prime Minister   \n",
       "8                            •President of the Senate   \n",
       "9                 •President of the National Assembly   \n",
       "10                                        Legislature   \n",
       "11                                       •Upper house   \n",
       "12                                       •Lower house   \n",
       "13       •Kingdom of the West Franks—Treaty of Verdun   \n",
       "14             •French Republic—French First Republic   \n",
       "15        •Current constitution—French Fifth Republic   \n",
       "16                                            • Total   \n",
       "17                                        • Water (%)   \n",
       "18                         •Metropolitan France(DGCL)   \n",
       "19                      • Metropolitan France (INSEE)   \n",
       "20                            • January 2025 estimate   \n",
       "21                                          • Density   \n",
       "22  • Metropolitan France, estimate as of January ...   \n",
       "23                                          • Density   \n",
       "24                                           GDP(PPP)   \n",
       "25                                            • Total   \n",
       "26                                       • Per capita   \n",
       "27                                       GDP(nominal)   \n",
       "28                                            • Total   \n",
       "29                                       • Per capita   \n",
       "30                                         Gini(2022)   \n",
       "31                                          HDI(2023)   \n",
       "32                                           Currency   \n",
       "33                                          Time zone   \n",
       "34                                     • Summer (DST)   \n",
       "35                                       Calling code   \n",
       "36                                      ISO 3166 code   \n",
       "37                                       Internet TLD   \n",
       "\n",
       "                                                Value  \n",
       "0   Paris48°51′N2°21′E﻿ / ﻿48.850°N 2.350°E﻿ /48.8...  \n",
       "1                                           French[a]  \n",
       "2                                92.2%French7.8%other  \n",
       "3   50%Christianity33%irreligion4%Islam4%other rel...  \n",
       "4                                              French  \n",
       "5                   Unitarysemi-presidential republic  \n",
       "6                                     Emmanuel Macron  \n",
       "7                                   Sébastien Lecornu  \n",
       "8                                      Gérard Larcher  \n",
       "9                                    Yaël Braun-Pivet  \n",
       "10                                         Parliament  \n",
       "11                                             Senate  \n",
       "12                                  National Assembly  \n",
       "13                                      10 August 843  \n",
       "14                                  22 September 1792  \n",
       "15                                     4 October 1958  \n",
       "16  632,702.3 km2(244,287.7 sq mi)(includingmetrop...  \n",
       "17                                               0.86  \n",
       "18                   543,941 km2(210,017 sq mi)(50th)  \n",
       "19            543,908.3 km2(210,004.2 sq mi)[b](50th)  \n",
       "20                                   68,605,616(21st)  \n",
       "21                         108/km2(281/sq mi) (106th)  \n",
       "22                                   66,351,959(21st)  \n",
       "23                        122/km2(316.0/sq mi) (97th)  \n",
       "24                                      2025 estimate  \n",
       "25                               $4.504 trillion(9th)  \n",
       "26                                      $65,626(25th)  \n",
       "27                                      2025 estimate  \n",
       "28                               $3.211 trillion(7th)  \n",
       "29                                      $46,792(22nd)  \n",
       "30                                 29.8low inequality  \n",
       "31                               0.920very high(26th)  \n",
       "32                  Euro(€) (EUR)[c]CFP franc(XPF)[d]  \n",
       "33                                      UTC+1(CET[e])  \n",
       "34                                        UTC+2(CEST)  \n",
       "35                                             +33[f]  \n",
       "36                                                 FR  \n",
       "37                                             .fr[g]  "
      ]
     },
     "metadata": {},
     "output_type": "display_data"
    },
    {
     "name": "stdout",
     "output_type": "stream",
     "text": [
      "\n",
      "Total rows extracted: 38\n"
     ]
    }
   ],
   "source": [
    "# Convert the list of info_data into a pandas DataFrame for structured data handling\n",
    "if info_data:\n",
    "    df = pd.DataFrame(info_data, columns=['Property', 'Value'])\n",
    "    print(\"France Information Table (as DataFrame):\")\n",
    "    display(df)\n",
    "    print(f\"\\nTotal rows extracted: {len(df)}\")\n",
    "else:\n",
    "    print(\"No data to create DataFrame\")"
   ]
  },
  {
   "cell_type": "markdown",
   "id": "ec807cbe",
   "metadata": {},
   "source": [
    "## Step 9 Pull Specific Facts\n",
    "\n",
    "We search the table for keywords like “Capital” or “Population” and return the matching value."
   ]
  },
  {
   "cell_type": "code",
   "execution_count": 12,
   "id": "9b9171ea",
   "metadata": {},
   "outputs": [
    {
     "name": "stdout",
     "output_type": "stream",
     "text": [
      "Specific Information about France:\n",
      "================================================================================\n",
      "Capital         : Paris48°51′N2°21′E﻿ / ﻿48.850°N 2.350°E﻿ /48.850; 2.350\n",
      "Population      : 68,605,616(21st)\n",
      "Area            : 632,702.3 km2(244,287.7 sq mi)(includingmetropolitan Franceandoverseas Franceand excludingTerre Adelie)(42nd)\n",
      "Government      : Unitarysemi-presidential republic\n",
      "Currency        : Euro(€) (EUR)[c]CFP franc(XPF)[d]\n",
      "Language        : French[a]\n",
      "Religion        : 50%Christianity33%irreligion4%Islam4%other religions\n"
     ]
    }
   ],
   "source": [
    "# Define a function to search for and retrieve specific information by keyword\n",
    "def get_info_value(search_term):\n",
    "    \"\"\"\n",
    "    Search the info_data list for a label containing the search term and return its value.\n",
    "    \n",
    "    Args:\n",
    "        search_term (str): The keyword to search for in labels (case-insensitive).\n",
    "    \n",
    "    Returns:\n",
    "        str: The corresponding value if found, otherwise \"Not found\".\n",
    "    \"\"\"\n",
    "    # Loop through the info_data to find a matching label\n",
    "    for label, value in info_data:\n",
    "        # Check if the search term is in the label, ignoring case\n",
    "        if search_term.lower() in label.lower():\n",
    "            return value\n",
    "    return \"Not found\"\n",
    "\n",
    "# Use the function to extract and print specific facts about France\n",
    "print(\"Specific Information about France:\")\n",
    "print(\"=\" * 80)\n",
    "print(f\"Capital         : {get_info_value('Capital')}\")\n",
    "print(f\"Population      : {get_info_value('January 2025 estimate')}\")\n",
    "print(f\"Area            : {get_info_value('Total')}\")\n",
    "print(f\"Government      : {get_info_value('Government')}\")\n",
    "print(f\"Currency        : {get_info_value('Currency')}\")\n",
    "print(f\"Language        : {get_info_value('language')}\")\n",
    "print(f\"Religion        : {get_info_value('Religion')}\")"
   ]
  },
  {
   "cell_type": "markdown",
   "id": "6f61db50",
   "metadata": {},
   "source": [
    "## Step 10: Save to CSV\n",
    "\n",
    "Saving the cleaned table means we can reuse it later without re-scraping."
   ]
  },
  {
   "cell_type": "code",
   "execution_count": 13,
   "id": "eec267ef",
   "metadata": {},
   "outputs": [
    {
     "name": "stdout",
     "output_type": "stream",
     "text": [
      "✓ Data saved to 'france_wikipedia_data.csv'\n",
      "Location: france_wikipedia_data.csv\n"
     ]
    }
   ],
   "source": [
    "# Save the DataFrame to a CSV file for future use, without including the index column\n",
    "if info_data:\n",
    "    csv_filename = 'france_wikipedia_data.csv'\n",
    "    df.to_csv(csv_filename, index=False, encoding='utf-8')\n",
    "    print(f\"✓ Data saved to '{csv_filename}'\")\n",
    "    print(f\"Location: {csv_filename}\")\n",
    "else:\n",
    "    print(\"No data to save\")"
   ]
  },
  {
   "cell_type": "markdown",
   "id": "999bb064",
   "metadata": {},
   "source": [
    "## Summary\n",
    "\n",
    "In this walkthrough you:\n",
    "\n",
    "1. Imported the libraries and fetched a live page with respectful headers.\n",
    "2. Parsed the HTML with BeautifulSoup.\n",
    "3. Read the page title and key headings.\n",
    "4. Gathered paragraphs and built a helper to display them on demand.\n",
    "5. Extracted the infobox into a tidy DataFrame.\n",
    "6. Looked up specific facts and saved everything to CSV.\n",
    "\n",
    "Keep experimenting with other Wikipedia pages—most follow the same layout, so your code will transfer with only minor tweaks."
   ]
  }
 ],
 "metadata": {
  "kernelspec": {
   "display_name": "course-msc-web-scraping-data-processing",
   "language": "python",
   "name": "python3"
  },
  "language_info": {
   "codemirror_mode": {
    "name": "ipython",
    "version": 3
   },
   "file_extension": ".py",
   "mimetype": "text/x-python",
   "name": "python",
   "nbconvert_exporter": "python",
   "pygments_lexer": "ipython3",
   "version": "3.14.0"
  }
 },
 "nbformat": 4,
 "nbformat_minor": 5
}
