{
 "cells": [
  {
   "cell_type": "code",
   "execution_count": 7,
   "id": "5532a2f6",
   "metadata": {},
   "outputs": [],
   "source": [
    "import requests\n",
    "from bs4 import BeautifulSoup\n"
   ]
  },
  {
   "cell_type": "code",
   "execution_count": 8,
   "id": "40b99dec",
   "metadata": {},
   "outputs": [
    {
     "name": "stdout",
     "output_type": "stream",
     "text": [
      "Status Code: 200\n"
     ]
    }
   ],
   "source": [
    "url = \"https://www.senate.gov/legislative/LIS/roll_call_lists/vote_menu_114_1.htm\"\n",
    "headers = {\n",
    "    \"User-Agent\": \"Mozilla/5.0 (Windows NT 10.0; Win64; x64) AppleWebKit/537.36 (KHTML, like Gecko) Chrome/120.0 Safari/537.36\"\n",
    "}\n",
    "\n",
    "response = requests.get(url, headers=headers)\n",
    "print(\"Status Code:\", response.status_code)\n"
   ]
  },
  {
   "cell_type": "code",
   "execution_count": 9,
   "id": "0426b926",
   "metadata": {},
   "outputs": [
    {
     "name": "stdout",
     "output_type": "stream",
     "text": [
      "✅ HTML parsed successfully!\n"
     ]
    }
   ],
   "source": [
    "soup = BeautifulSoup(response.text, \"html.parser\")\n",
    "print(\"✅ HTML parsed successfully!\")\n"
   ]
  },
  {
   "cell_type": "code",
   "execution_count": 10,
   "id": "383c4234",
   "metadata": {},
   "outputs": [
    {
     "name": "stdout",
     "output_type": "stream",
     "text": [
      "List of issues voted in congress: ['339\\xa0(65-33)', 'H.R. 2029', '338\\xa0(73-25)', '337\\xa0(31-67)', '336\\xa0(72-26)', '335\\xa0(45-34)', 'PN64', '334\\xa0(85-12)', 'S. 1177', '333\\xa0(84-12)']\n"
     ]
    }
   ],
   "source": [
    "# The issue columns usually have class \"roll_call\" or \"issue\"; let's extract all links in the table\n",
    "issues = []\n",
    "table = soup.find(\"table\")\n",
    "if table:\n",
    "    for a in table.find_all(\"a\"):\n",
    "        issue_text = a.get_text(strip=True)\n",
    "        if issue_text:  # avoid empty\n",
    "            issues.append(issue_text)\n",
    "\n",
    "# Remove duplicates if needed\n",
    "issues = list(dict.fromkeys(issues))\n",
    "\n",
    "print(\"List of issues voted in congress:\", issues[:10])  # limiting first 10 for display\n"
   ]
  },
  {
   "cell_type": "code",
   "execution_count": 11,
   "id": "1db37a8e",
   "metadata": {},
   "outputs": [],
   "source": [
    "# Example: get vote info for the first issue\n",
    "first_issue_url = \"https://www.senate.gov\" + soup.find(\"a\", string=issues[0].capitalize()).get(\"href\")\n",
    "response_issue = requests.get(first_issue_url, headers=headers)\n",
    "soup_issue = BeautifulSoup(response_issue.text, \"html.parser\")\n",
    "\n",
    "# Find all rows in the vote table\n",
    "vote_rows = soup_issue.find_all(\"tr\")[1:]  # skip header row\n",
    "\n",
    "for row in vote_rows[:3]:  # show first 3 rows as sample\n",
    "    cols = row.find_all(\"td\")\n",
    "    if len(cols) >= 6:\n",
    "        print(\"Vote (Tally) ResultQuestion:\", \"\".join([c.get_text(strip=True) for c in cols]))\n"
   ]
  },
  {
   "cell_type": "code",
   "execution_count": null,
   "id": "b57ec99e",
   "metadata": {},
   "outputs": [],
   "source": []
  }
 ],
 "metadata": {
  "kernelspec": {
   "display_name": ".venv",
   "language": "python",
   "name": "python3"
  },
  "language_info": {
   "codemirror_mode": {
    "name": "ipython",
    "version": 3
   },
   "file_extension": ".py",
   "mimetype": "text/x-python",
   "name": "python",
   "nbconvert_exporter": "python",
   "pygments_lexer": "ipython3",
   "version": "3.14.0"
  }
 },
 "nbformat": 4,
 "nbformat_minor": 5
}
