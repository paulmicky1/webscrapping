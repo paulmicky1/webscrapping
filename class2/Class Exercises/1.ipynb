{
 "cells": [
  {
   "cell_type": "code",
   "execution_count": 1,
   "id": "63ab04c1",
   "metadata": {},
   "outputs": [],
   "source": [
    "import requests\n",
    "from bs4 import BeautifulSoup\n",
    "import pandas as pd\n"
   ]
  },
  {
   "cell_type": "code",
   "execution_count": 2,
   "id": "aed9260c",
   "metadata": {},
   "outputs": [
    {
     "name": "stdout",
     "output_type": "stream",
     "text": [
      "Page fetched successfully!\n",
      "Status Code: 200\n",
      "Content Length: 1301645 bytes\n"
     ]
    }
   ],
   "source": [
    "# Define the URL of the Wikipedia page we want to scrape\n",
    "\n",
    "url = \"https://www.nytimes.com/\"\n",
    "\n",
    "# Set headers to mimic a real browser, helping to avoid being blocked by the server\n",
    "headers = {\n",
    "    \"User-Agent\": \"Mozilla/5.0 (Windows NT 10.0; Win64; x64) \"\n",
    "                  \"AppleWebKit/537.36 (KHTML, like Gecko) \"\n",
    "                  \"Chrome/123.0 Safari/537.36\"\n",
    "}\n",
    "\n",
    "# Send a GET request to the URL with the headers to retrieve the page content\n",
    "response = requests.get(url, headers=headers)\n",
    "\n",
    "# Check the response status code to ensure the request was successful (200 means OK)\n",
    "if response.status_code == 200:\n",
    "    print(\"Page fetched successfully!\")\n",
    "    print(f\"Status Code: {response.status_code}\")\n",
    "    print(f\"Content Length: {len(response.content)} bytes\")\n",
    "else:\n",
    "    print(f\"Failed to fetch page. Status Code: {response.status_code}\")\n"
   ]
  },
  {
   "cell_type": "code",
   "execution_count": 3,
   "id": "258e570b",
   "metadata": {},
   "outputs": [
    {
     "name": "stdout",
     "output_type": "stream",
     "text": [
      "HTML parsed successfully!\n",
      "Document type: <class 'bs4.BeautifulSoup'>\n"
     ]
    }
   ],
   "source": [
    "# Parse the raw HTML content from the response using BeautifulSoup with the 'lxml' parser for efficient HTML handling\n",
    "soup = BeautifulSoup(response.content, 'lxml')\n",
    "\n",
    "# Confirm parsing was successful and show the type of the soup object\n",
    "print(\"HTML parsed successfully!\")\n",
    "print(f\"Document type: {type(soup)}\")"
   ]
  },
  {
   "cell_type": "code",
   "execution_count": 4,
   "id": "f3a5399e",
   "metadata": {},
   "outputs": [
    {
     "name": "stdout",
     "output_type": "stream",
     "text": [
      "🟢 Live Headline:\n",
      "Live\n"
     ]
    }
   ],
   "source": [
    "\n",
    "# Step 2: Find the first live headline (usually marked with 'live' or appears in <h3>)\n",
    "live_headline = None\n",
    "\n",
    "# Try to locate a headline containing the word \"Live\" or similar live update structure\n",
    "for tag in soup.find_all(['h2', 'h3', 'title']):\n",
    "    text = tag.get_text(strip=True)\n",
    "    if \"Live\" in text or \"LIVE\" in text or \"live\" in text:\n",
    "        live_headline = text\n",
    "        break\n",
    "\n",
    "# Step 3: Output the result\n",
    "if live_headline:\n",
    "    print(\"🟢 Live Headline:\")\n",
    "    print(live_headline)\n",
    "else:\n",
    "    print(\"No live headline found.\")\n",
    " "
   ]
  },
  {
   "cell_type": "code",
   "execution_count": 56,
   "id": "759a9757",
   "metadata": {},
   "outputs": [
    {
     "name": "stdout",
     "output_type": "stream",
     "text": [
      "1) Companies Have Shielded Buyers From Tariffs. But Not for Long.\n",
      "2) A Major Crypto Pardon, and the N.B.A. Gambling Scandal With Mob Ties\n",
      "3) Letitia James Case Shows Ruthlessness of Justice Dept. in Trump’s Grip\n",
      "4) Letitia James to Appear in Court as Battle Over Trump-Urged Prosecution Begins\n",
      "5) Rebuilding Israeli-Held Parts of Gaza: Workable or Another U.S. Pipe Dream?\n",
      "6) Who Were the Palestinian Prisoners Freed by Israel?\n",
      "7) N.B.A. Gambling Scandal Reflects America’s Obsession With Sports Betting\n",
      "8) NBA Gambling Scandal: What We Know\n",
      "9) Can Ken Burns Win the American Revolution?\n",
      "10) On a Roll, European Leaders Meet to Bolster Support for Ukraine\n"
     ]
    }
   ],
   "source": [
    "for i, title in enumerate(titles[:10], start=1):\n",
    "    print(f\"{i}) {title}\")\n"
   ]
  },
  {
   "cell_type": "code",
   "execution_count": 40,
   "id": "6b5e2e90",
   "metadata": {},
   "outputs": [
    {
     "name": "stdout",
     "output_type": "stream",
     "text": [
      "1) Companies Have Shielded Buyers From Tariffs. But Not for Long.\n",
      "2) A Major Crypto Pardon, and the N.B.A. Gambling Scandal With Mob Ties\n",
      "3) Letitia James Case Shows Ruthlessness of Justice Dept. in Trump’s Grip\n",
      "4) Letitia James to Appear in Court as Battle Over Trump-Urged Prosecution Begins\n",
      "5) Rebuilding Israeli-Held Parts of Gaza: Workable or Another U.S. Pipe Dream?\n",
      "6) Who Were the Palestinian Prisoners Freed by Israel?\n",
      "7) N.B.A. Gambling Scandal Reflects America’s Obsession With Sports Betting\n",
      "8) NBA Gambling Scandal: What We Know\n",
      "9) Can Ken Burns Win the American Revolution?\n",
      "10) On a Roll, European Leaders Meet to Bolster Support for Ukraine\n"
     ]
    }
   ],
   "source": [
    "for i, title in enumerate(titles[:10], start=1):\n",
    "    print(f\"{i}) {title}\")\n"
   ]
  },
  {
   "cell_type": "code",
   "execution_count": 41,
   "id": "41dafcbd",
   "metadata": {},
   "outputs": [
    {
     "name": "stdout",
     "output_type": "stream",
     "text": [
      "Top 10 Article Titles:\n",
      "\n",
      "1) Companies Have Shielded Buyers From Tariffs. But Not for Long.\n",
      "2) A Major Crypto Pardon, and the N.B.A. Gambling Scandal With Mob Ties\n",
      "3) Letitia James Case Shows Ruthlessness of Justice Dept. in Trump’s Grip\n",
      "4) Letitia James to Appear in Court as Battle Over Trump-Urged Prosecution Begins\n",
      "5) Rebuilding Israeli-Held Parts of Gaza: Workable or Another U.S. Pipe Dream?\n",
      "6) U.S. Diplomats Will Work With Troops to Maintain Gaza Cease-Fire, Rubio Says\n",
      "7) Who Were the Palestinian Prisoners Freed by Israel?\n",
      "8) N.B.A. Gambling Scandal Reflects America’s Obsession With Sports Betting\n",
      "9) NBA Gambling Scandal: What We Know\n",
      "10) The Wider Costs of the N.B.A. Insider-Trading Scandal\n"
     ]
    }
   ],
   "source": [
    "import requests\n",
    "from bs4 import BeautifulSoup\n",
    "\n",
    "# RSS feed URL (NYT homepage)\n",
    "url = \"https://rss.nytimes.com/services/xml/rss/nyt/HomePage.xml\"\n",
    "\n",
    "# Send HTTP request\n",
    "response = requests.get(url)\n",
    "if response.status_code != 200:\n",
    "    print(\"Failed to fetch the RSS feed\")\n",
    "else:\n",
    "    # Parse XML content with BeautifulSoup\n",
    "    soup = BeautifulSoup(response.content, \"xml\")\n",
    "\n",
    "    # Extract all <title> tags (first one is usually the feed title itself)\n",
    "    items = soup.find_all(\"item\")\n",
    "\n",
    "    # Print top 10 article titles\n",
    "    print(\"Top 10 Article Titles:\\n\")\n",
    "    for i, item in enumerate(items[:10], start=1):\n",
    "        print(f\"{i}) {item.title.text}\")\n"
   ]
  }
 ],
 "metadata": {
  "kernelspec": {
   "display_name": ".venv",
   "language": "python",
   "name": "python3"
  },
  "language_info": {
   "codemirror_mode": {
    "name": "ipython",
    "version": 3
   },
   "file_extension": ".py",
   "mimetype": "text/x-python",
   "name": "python",
   "nbconvert_exporter": "python",
   "pygments_lexer": "ipython3",
   "version": "3.14.0"
  }
 },
 "nbformat": 4,
 "nbformat_minor": 5
}
