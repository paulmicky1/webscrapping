{
 "cells": [
  {
   "cell_type": "code",
   "execution_count": 5,
   "id": "bda83957",
   "metadata": {},
   "outputs": [
    {
     "name": "stdout",
     "output_type": "stream",
     "text": [
      "Status Code: 200\n",
      "✅ HTML parsed successfully!\n",
      "1) The relational model, first proposed in 1970 by Edgar F\n",
      "2) In 1970, he wrote a number of papers that outlined a new approach to database construction that eventually culminated in the groundbreaking A Relational Model of Data for Large Shared Data Banks\n"
     ]
    }
   ],
   "source": [
    "# Step 0: Import required libraries\n",
    "import requests\n",
    "from bs4 import BeautifulSoup\n",
    "\n",
    "# Step 1: Send request to Wikipedia page with headers\n",
    "url = \"https://en.wikipedia.org/wiki/Database\"\n",
    "headers = {\n",
    "    \"User-Agent\": \"Mozilla/5.0 (Windows NT 10.0; Win64; x64) AppleWebKit/537.36 (KHTML, like Gecko) Chrome/120.0 Safari/537.36\"\n",
    "}\n",
    "response = requests.get(url, headers=headers)\n",
    "print(\"Status Code:\", response.status_code)\n",
    "\n",
    "# Step 2: Parse HTML\n",
    "soup = BeautifulSoup(response.text, \"html.parser\")\n",
    "print(\"✅ HTML parsed successfully!\")\n",
    "\n",
    "# Step 3: Find first two short texts containing \"1970\"\n",
    "matches = []\n",
    "for p in soup.find_all(\"p\"):\n",
    "    sentences = p.get_text().split(\".\")  # split paragraph into sentences\n",
    "    for sentence in sentences:\n",
    "        if \"1970\" in sentence:\n",
    "            snippet = sentence.strip()\n",
    "            if snippet:  # avoid empty strings\n",
    "                matches.append(snippet)\n",
    "        if len(matches) == 2:  # stop after two texts\n",
    "            break\n",
    "    if len(matches) == 2:\n",
    "        break\n",
    "\n",
    "# Step 4: Display results\n",
    "for i, m in enumerate(matches, start=1):\n",
    "    print(f\"{i}) {m}\")\n"
   ]
  }
 ],
 "metadata": {
  "kernelspec": {
   "display_name": "course-msc-web-scraping-data-processing",
   "language": "python",
   "name": "python3"
  },
  "language_info": {
   "codemirror_mode": {
    "name": "ipython",
    "version": 3
   },
   "file_extension": ".py",
   "mimetype": "text/x-python",
   "name": "python",
   "nbconvert_exporter": "python",
   "pygments_lexer": "ipython3",
   "version": "3.14.0"
  }
 },
 "nbformat": 4,
 "nbformat_minor": 5
}
