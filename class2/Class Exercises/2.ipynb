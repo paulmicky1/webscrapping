{
 "cells": [
  {
   "cell_type": "code",
   "execution_count": 2,
   "id": "b10eb6bd",
   "metadata": {},
   "outputs": [],
   "source": [
    "import requests\n",
    "from bs4 import BeautifulSoup\n"
   ]
  },
  {
   "cell_type": "code",
   "execution_count": 3,
   "id": "7e8e6e0f",
   "metadata": {},
   "outputs": [
    {
     "name": "stdout",
     "output_type": "stream",
     "text": [
      "Status Code: 200\n"
     ]
    }
   ],
   "source": [
    "url = \"https://en.wikipedia.org/wiki/Data_processing\"\n",
    "headers = {\n",
    "    \"User-Agent\": \"Mozilla/5.0 (Windows NT 10.0; Win64; x64) AppleWebKit/537.36 (KHTML, like Gecko) Chrome/120.0 Safari/537.36\"\n",
    "}\n",
    "response = requests.get(url, headers=headers)\n",
    "print(\"Status Code:\", response.status_code)\n"
   ]
  },
  {
   "cell_type": "code",
   "execution_count": 4,
   "id": "a83bfc9a",
   "metadata": {},
   "outputs": [
    {
     "name": "stdout",
     "output_type": "stream",
     "text": [
      "✅ HTML parsed successfully!\n"
     ]
    }
   ],
   "source": [
    "soup = BeautifulSoup(response.text, \"html.parser\")\n",
    "print(\"✅ HTML parsed successfully!\")\n"
   ]
  },
  {
   "cell_type": "code",
   "execution_count": 5,
   "id": "06b54121",
   "metadata": {},
   "outputs": [
    {
     "name": "stdout",
     "output_type": "stream",
     "text": [
      "Location of the string: Computerized data processing, or electronic data processing represents a later development, with a computer used instead of several independent pieces of equipment.  The Census Bureau first made limited use of electronic computers for the 1950 United States census, using a UNIVAC I system,[3] delivered in 1952.\n"
     ]
    }
   ],
   "source": [
    "match = None\n",
    "for p in soup.find_all(\"p\"):\n",
    "    text = p.get_text()\n",
    "    if \"1952\" in text:\n",
    "        match = text.strip().replace(\"\\n\", \" \")\n",
    "        break\n",
    "\n",
    "if match:\n",
    "    print(\"Location of the string:\", match)\n",
    "else:\n",
    "    print(\"No text containing '1952' found.\")\n"
   ]
  }
 ],
 "metadata": {
  "kernelspec": {
   "display_name": "course-msc-web-scraping-data-processing",
   "language": "python",
   "name": "python3"
  },
  "language_info": {
   "codemirror_mode": {
    "name": "ipython",
    "version": 3
   },
   "file_extension": ".py",
   "mimetype": "text/x-python",
   "name": "python",
   "nbconvert_exporter": "python",
   "pygments_lexer": "ipython3",
   "version": "3.14.0"
  }
 },
 "nbformat": 4,
 "nbformat_minor": 5
}
